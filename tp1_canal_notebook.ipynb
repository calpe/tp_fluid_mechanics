{
 "cells": [
  {
   "cell_type": "markdown",
   "metadata": {},
   "source": [
    "# TP1: ECOULEMENT EN CANAL"
   ]
  },
  {
   "cell_type": "code",
   "execution_count": 1,
   "metadata": {},
   "outputs": [],
   "source": [
    "# Import modules\n",
    "import numpy as np\n",
    "import matplotlib.pyplot as plt\n",
    "\n",
    "from scripts.tp1_canal import TP1Canal"
   ]
  },
  {
   "cell_type": "code",
   "execution_count": 2,
   "metadata": {},
   "outputs": [],
   "source": [
    "# Create TP oject\n",
    "tp = TP1Canal(name='calpe', HAS_TO_SAVE=False)\n",
    "\n",
    "# Parameters of the TP\n",
    "d = tp.width_canal\n",
    "rho = tp.rho\n",
    "g = tp.gravity"
   ]
  },
  {
   "cell_type": "markdown",
   "metadata": {},
   "source": [
    "## 1. MESURE DE DEBIT"
   ]
  },
  {
   "cell_type": "markdown",
   "metadata": {},
   "source": [
    "### 1.1. Principe de mesure du débit. Calcul de la incertitude\n",
    "\n",
    "$$Q = \\frac{Volume}{Temps}$$\n",
    "\n",
    "$$\\frac{\\delta Q}{Q} = \\frac{\\delta V}{V} + \\frac{\\delta T}{T}$$\n"
   ]
  },
  {
   "cell_type": "code",
   "execution_count": 3,
   "metadata": {},
   "outputs": [
    {
     "name": "stdout",
     "output_type": "stream",
     "text": [
      "Le débit est 0.0001964285714285714 m3/s\n",
      "Incertitude débit = 0.19675324675324676\n"
     ]
    }
   ],
   "source": [
    "# Mesure du débit\n",
    "volume = 550 # ml\n",
    "temps = 2.8 # secondes\n",
    "\n",
    "q = (volume * 1e-6) / temps #m3/s\n",
    "print('Le débit est {} m3/s'.format(q))\n",
    "\n",
    "# Mesure incertitude\n",
    "## Incertitude in mesures\n",
    "delta_volume = 10 # ml\n",
    "delta_temps = 0.5 # s\n",
    "\n",
    "incert = delta_volume / volume + delta_temps / temps\n",
    "print('Incertitude débit = {}'.format(incert))"
   ]
  },
  {
   "cell_type": "markdown",
   "metadata": {},
   "source": [
    "### 1.2. Débit varie-t-il le long du canal? \n",
    "\n",
    "$$\\frac{\\partial Q}{\\partial x} = 0$$\n",
    "\n",
    "Le théorème de conservation de la masse --> le débit ne varie pas le long du canal."
   ]
  },
  {
   "cell_type": "markdown",
   "metadata": {},
   "source": [
    "### 1.3. Relation Q(h, d, U)\n",
    "\n",
    "$$Q = U \\cdot S = U \\cdot h \\cdot d$$\n",
    "\n",
    "$$U = \\frac{Q}{h \\cdot d}$$"
   ]
  },
  {
   "cell_type": "markdown",
   "metadata": {},
   "source": [
    "## 2. PERTES DE CHARGE REGULIERES"
   ]
  },
  {
   "cell_type": "markdown",
   "metadata": {},
   "source": [
    "### 2.1. h(x) (5 points)"
   ]
  },
  {
   "cell_type": "code",
   "execution_count": 4,
   "metadata": {},
   "outputs": [],
   "source": [
    "hs = [0.025, 0.023, 0.02, 0.018, 0.015]\n",
    "\n",
    "# L'énergie diminue"
   ]
  },
  {
   "cell_type": "markdown",
   "metadata": {},
   "source": [
    "### 2.2. Exprimer E(Q, h,d, g). Calculer et tracer E(x). Calculer l'erreur de mesure E. \n",
    "\n",
    "$$E = \\frac{1}{2} \\rho \\frac{Q^2}{(h \\cdot d)^2} + \\rho g h$$"
   ]
  },
  {
   "cell_type": "code",
   "execution_count": 5,
   "metadata": {},
   "outputs": [
    {
     "name": "stdout",
     "output_type": "stream",
     "text": [
      "The energies are [245.0086706030727, 225.4090615743714, 196.00964604591837, 176.4100270747592, 147.0105710092256]\n"
     ]
    }
   ],
   "source": [
    "# Calcule E(x)\n",
    "x = [0.25, 0.5, 0.75, 1, 1.25] # in m\n",
    "energies = []\n",
    "for h in hs:\n",
    "    ek = 0.5 * rho * (q**2 / (h**2 + d**2))\n",
    "    ep = rho * g * h\n",
    "    energies.append(ek + ep)\n",
    "\n",
    "print('The energies are {}'.format(energies))"
   ]
  },
  {
   "cell_type": "code",
   "execution_count": 6,
   "metadata": {},
   "outputs": [
    {
     "data": {
      "text/plain": [
       "[<matplotlib.lines.Line2D at 0x7fbc1b108080>]"
      ]
     },
     "execution_count": 6,
     "metadata": {},
     "output_type": "execute_result"
    },
    {
     "data": {
      "image/png": "[encoded data removed]",
      "text/plain": [
       "<matplotlib.figure.Figure at 0x7fbc1d1ad5c0>"
      ]
     },
     "metadata": {},
     "output_type": "display_data"
    }
   ],
   "source": [
    "# Tracer E(x)\n",
    "fig, ax = plt.subplots()\n",
    "\n",
    "ax.set_title('Energy as function of x')\n",
    "ax.set_xlabel('x (m)')\n",
    "ax.set_ylabel('$E (kg m^2/s^2)$')\n",
    "\n",
    "ax.plot(x, energies, 'o')"
   ]
  },
  {
   "cell_type": "code",
   "execution_count": 7,
   "metadata": {},
   "outputs": [],
   "source": [
    "# Erreur mesure E(x)"
   ]
  },
  {
   "cell_type": "markdown",
   "metadata": {},
   "source": [
    "### 2.3. Comment l'énergie évolue-t-elle? Pour quoi?\n",
    "\n",
    "L'énergie diminiue le long du canal.\n",
    "\n",
    "La diminution d'énergie est due à la friction avec les paroies et à la turbulence."
   ]
  },
  {
   "cell_type": "markdown",
   "metadata": {},
   "source": [
    "### 2.4. De quel paramètre le coefficient perte de charge dépend-il?\n",
    "\n",
    "$$\\Delta E = \\lambda \\frac{\\rho U^2}{2} \\frac{L}{d}$$\n",
    "\n",
    "Il dépend de la vitesse du fluide."
   ]
  },
  {
   "cell_type": "markdown",
   "metadata": {},
   "source": [
    "### 2.5. Estimation $\\lambda$. Expliquer le calcul\n",
    "\n",
    "$$\\lambda = 2\\Delta E \\frac{d}{L} \\frac{Q^2}{(h \\cdot d)^2}$$"
   ]
  },
  {
   "cell_type": "code",
   "execution_count": 8,
   "metadata": {},
   "outputs": [
    {
     "name": "stdout",
     "output_type": "stream",
     "text": [
      "Le coefficient de perte charge est 0.24199517270131174\n"
     ]
    }
   ],
   "source": [
    "# Difference énergie entre 2 points\n",
    "delta_E = np.abs(energies[1] - energies[0])\n",
    "l = abs(x[1] - x[0])\n",
    "h = hs[0]\n",
    "\n",
    "coef_pert = 2 * delta_E * (d / l) * (q**2 / (h * d)**2)\n",
    "\n",
    "print('Le coefficient de perte charge est {}'.format(coef_pert))"
   ]
  },
  {
   "cell_type": "markdown",
   "metadata": {},
   "source": [
    "## 3. RESSAUT HYDRAULIQUE"
   ]
  },
  {
   "cell_type": "markdown",
   "metadata": {},
   "source": [
    "### 3.1. Schéma E(h)\n",
    "\n",
    "h $\\rightarrow$ 0 : Énergie dominé par le terme cinétique $E(h) \\sim \\frac{1}{h^2}$\n",
    "\n",
    "h $\\rightarrow$ $\\inf$ : Énergie dominé par le terme potentiel $E(h) \\sim h$"
   ]
  },
  {
   "cell_type": "markdown",
   "metadata": {},
   "source": [
    "### 3.2. Régimes\n",
    "\n",
    "Régime torrentiel : Régime dominé par l'énergie cinétique $\\sim ~ U^2$\n",
    "\n",
    "Régime fluvial : Régime dominé par l'énergie potentielle $\\sim ~ h$"
   ]
  },
  {
   "cell_type": "markdown",
   "metadata": {},
   "source": [
    "### 3.3. Hauteur critique $h_c$\n",
    "\n",
    "$$h_c = (\\frac{1}{g} \\frac{Q^2}{d^2})^{1/3}$$\n"
   ]
  },
  {
   "cell_type": "code",
   "execution_count": 9,
   "metadata": {},
   "outputs": [
    {
     "name": "stdout",
     "output_type": "stream",
     "text": [
      "Hauteur critique est 0.013500641944021056 m\n"
     ]
    }
   ],
   "source": [
    "# Mesure hauteur critique hc\n",
    "hc = (q**2 / (g * d**2))**(1/3.)\n",
    "print('Hauteur critique est {} m'.format(hc))"
   ]
  },
  {
   "cell_type": "markdown",
   "metadata": {},
   "source": [
    "### 3.4. Régime dans la partie 2\n",
    "\n",
    "$$Fr = \\frac{Q}{h \\cdot d} \\frac{1}{\\sqrt{gh}}$$"
   ]
  },
  {
   "cell_type": "code",
   "execution_count": 10,
   "metadata": {},
   "outputs": [
    {
     "name": "stdout",
     "output_type": "stream",
     "text": [
      "Les nombres de Froude son [0.39684564250265414, 0.44971759031274072, 0.55460864575657154, 0.64956538170823885, 0.85387586912653446]\n",
      "Le régime est fluvial\n"
     ]
    }
   ],
   "source": [
    "# Mesurer nombre de Froude\n",
    "froudes = []\n",
    "for h in hs:\n",
    "    froudes.append(tp.compute_froude(q, h))\n",
    "print('Les nombres de Froude son {}'.format(froudes))\n",
    "\n",
    "if all(froude < 1 for froude in froudes):\n",
    "    print('Le régime est fluvial')"
   ]
  },
  {
   "cell_type": "markdown",
   "metadata": {},
   "source": [
    "### 3.5. Introduction obstable. Régimes\n"
   ]
  },
  {
   "cell_type": "code",
   "execution_count": 11,
   "metadata": {},
   "outputs": [
    {
     "name": "stdout",
     "output_type": "stream",
     "text": [
      "Froude amont = 0.2740353954081632\n",
      "Froude aval = 2.1922831632653055\n"
     ]
    }
   ],
   "source": [
    "# Calcule hauteurs surface amont et aval\n",
    "h_amont = 0.032 # m\n",
    "h_aval = 0.008 # m\n",
    "\n",
    "# Calcule débit (ici on utiliserà le même pour simplifier) et mesurer incertitudes.\n",
    "q = q\n",
    "\n",
    "# Calcule nombre froude\n",
    "froude_amont = tp.compute_froude(q, h_amont)\n",
    "froude_aval = tp.compute_froude(q, h_aval)\n",
    "\n",
    "# Print results\n",
    "print('Froude amont = {}'.format(froude_amont))\n",
    "print('Froude aval = {}'.format(froude_aval))"
   ]
  },
  {
   "cell_type": "markdown",
   "metadata": {},
   "source": [
    "### 3.6. Évolution hauteur régime torrentiel."
   ]
  },
  {
   "cell_type": "markdown",
   "metadata": {},
   "source": [
    "### 3.7. Régime après les ressaut\n"
   ]
  },
  {
   "cell_type": "code",
   "execution_count": 12,
   "metadata": {},
   "outputs": [
    {
     "name": "stdout",
     "output_type": "stream",
     "text": [
      "Fr = 0.7077147496126939. Le régime est fluvial\n"
     ]
    }
   ],
   "source": [
    "# Compute hauteur après ressaut\n",
    "h = 0.017 # m\n",
    "\n",
    "# Compute Froude\n",
    "froude = tp.compute_froude(q, h)\n",
    "if froude < 1:\n",
    "    print('Fr = {}. Le régime est fluvial'.format(froude))\n",
    "else:\n",
    "    print('Fr = {}. Le régime est torrentiel'.format(froude))\n"
   ]
  },
  {
   "cell_type": "markdown",
   "metadata": {},
   "source": [
    "### 3.8. Calculer énergie 3 points (avant obstacle, après obstacle, après ressaut)"
   ]
  },
  {
   "cell_type": "code",
   "execution_count": 13,
   "metadata": {},
   "outputs": [
    {
     "name": "stdout",
     "output_type": "stream",
     "text": [
      "Energies are [325.3749583964445, 266.79933434311215, 208.32165189605254]\n"
     ]
    }
   ],
   "source": [
    "# Mesure hauteurs\n",
    "energies = []\n",
    "hs = [0.032, 0.008, 0.017]\n",
    "for h in hs:\n",
    "    energies.append(tp.compute_energy(q, h))\n",
    "print('Energies are {}'.format(energies))\n",
    "\n",
    "# Incertitude mesure E\n",
    "# dE/E = 2(dQ/Q) + 3(dh/h)"
   ]
  },
  {
   "cell_type": "markdown",
   "metadata": {},
   "source": [
    "### 3.9. Évolution E(x)\n",
    "\n",
    "La variation d'énergie n'est pas proportionelle à L. \n",
    "\n",
    "Dans le ressaut hydraulique il a la turbulence. La turbulence génère une grande dissipation d'énergie. "
   ]
  },
  {
   "cell_type": "code",
   "execution_count": 14,
   "metadata": {},
   "outputs": [
    {
     "data": {
      "text/plain": [
       "[<matplotlib.lines.Line2D at 0x7fbc1b06dcc0>]"
      ]
     },
     "execution_count": 14,
     "metadata": {},
     "output_type": "execute_result"
    },
    {
     "data": {
      "image/png": "[encoded data removed]",
      "text/plain": [
       "<matplotlib.figure.Figure at 0x7fbc1b06dc50>"
      ]
     },
     "metadata": {},
     "output_type": "display_data"
    }
   ],
   "source": [
    "# Tracer E(x)\n",
    "x = [0.25, 0.75, 1.00]\n",
    "fig, ax = plt.subplots()\n",
    "\n",
    "ax.set_xlabel('$x (m)$')\n",
    "ax.set_ylabel('$E (kg m^2/s^2)$')\n",
    "\n",
    "ax.plot(x, energies, 'o')"
   ]
  }
 ],
 "metadata": {
  "kernelspec": {
   "display_name": "Python 3",
   "language": "python",
   "name": "python3"
  },
  "language_info": {
   "codemirror_mode": {
    "name": "ipython",
    "version": 3
   },
   "file_extension": ".py",
   "mimetype": "text/x-python",
   "name": "python",
   "nbconvert_exporter": "python",
   "pygments_lexer": "ipython3",
   "version": "3.6.3"
  }
 },
 "nbformat": 4,
 "nbformat_minor": 2
}

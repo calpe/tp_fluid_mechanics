{
 "cells": [
  {
   "cell_type": "markdown",
   "metadata": {},
   "source": [
    "# TP3: FORCE DE CORIOLIS"
   ]
  },
  {
   "cell_type": "code",
   "execution_count": 3,
   "metadata": {},
   "outputs": [],
   "source": [
    "# Import modules\n",
    "import numpy as np\n",
    "import matplotlib.pyplot as plt\n",
    "\n",
    "from scripts.tp3_coriolis import TP3Coriolis"
   ]
  },
  {
   "cell_type": "code",
   "execution_count": 5,
   "metadata": {},
   "outputs": [],
   "source": [
    "# Create TP oject\n",
    "tp = TP3Coriolis(name='calpe', HAS_TO_SAVE=False)"
   ]
  },
  {
   "cell_type": "markdown",
   "metadata": {},
   "source": [
    "## 1. EFFET DE LA FORCE DE CORIOLIS"
   ]
  },
  {
   "cell_type": "markdown",
   "metadata": {},
   "source": [
    "### 1.1. Vitesse constante dans le tube? Pourquoi?\n",
    "\n",
    "La vitesse est contante dans le tube, $\\partial_x U = 0$ \n",
    "\n",
    "Pour le principe de conservation de la masse: \n",
    "$$U_A S_A = U_B S_B$$\n",
    "\n",
    "Dans le tube $S_A = S_B$, donc $U_A = U_B$\n"
   ]
  },
  {
   "cell_type": "markdown",
   "metadata": {},
   "source": [
    "### 1.2. Force de Coriolis sur petit volume de fluide\n",
    "\n",
    "La force de Coriolis est $\\mathbf{f_c} = -m \\cdot \\mathbf{a_c} = m \\cdot 2 \\mathbf{\\Omega} \\times \\mathbf{v}$. Le vecteur de rotation est $\\mathbf{\\Omega} = [0,0, \\Omega]$. Le vecteur de vitesse du fluide $\\mathbf{v} = [v, 0, 0]$. \n",
    "\n",
    "La force de Coriolis sur un diferentiel de volume est donc: $$\\mathbf{dF_c} = -\\rho S dr 2 \\Omega U \\mathbf{j}$$,\n",
    "la direction de la force de Coriolis est perpendiculaire à la vitesse de rotation et à la vitesse du fluide. "
   ]
  },
  {
   "cell_type": "markdown",
   "metadata": {},
   "source": [
    "### 1.3. Moment force de Coriolis sur petite volume de fluide\n",
    "\n",
    "Le moment d'une force est $\\mathbf{M} = \\mathbf{r} \\times \\mathbf{F}$. Le vecteur de position respecte un point O est $\\mathbf{r} = [r, 0, 0]$.\n",
    "\n",
    "Le moment de la force de Coriolis est: $$\\mathbf{dM_c} = -\\rho S dr 2 \\Omega U r \\mathbf{k}$$"
   ]
  },
  {
   "cell_type": "markdown",
   "metadata": {},
   "source": [
    "### 1.4. Moment total de la force de Coriolis\n",
    "\n",
    "Le moment total de la force de Coriolis est obtenu en integrant l'expression anterior $$\\mathbf{M_c} = 2 \\int_0^l dM_c \\mathbf{k} = - \\rho 2 S \\Omega U l^2$$.\n",
    "\n",
    "Le débit sur un tube du fluide est $Q = U / 2S$, car le débit est reparti parmi les deux tubes.\n",
    "\n",
    "Le moment total est ecrit comme $$\\mathbf{M_c} = - \\rho  Q \\Omega l^2 \\mathbf{k}$$"
   ]
  },
  {
   "cell_type": "markdown",
   "metadata": {},
   "source": [
    "### 1.5. Effet de ce moment. Mesure\n",
    "\n",
    "Le moment produira la rotation du moteur par le principe d'action et reaction. \n",
    "\n",
    "On va mesurer la force sur le moteur avec le capteur de force. Comme on connait le rayon du disque sur lequel est enroulé la corde de nylon, on peut calculer le couple (moment). "
   ]
  },
  {
   "cell_type": "markdown",
   "metadata": {},
   "source": [
    "### 1.6. Vérifier l'expression moment force de Coriolis. Proposer protocole expérimentale\n",
    "\n",
    "Pour différents valeurs de $\\Omega$ et $Q$, on va mésurer le moment de la force de Coriolis avec le capteur de force. On va calculer son valeur aussi avec son expression théorique. On va comparer le deux valeurs. "
   ]
  },
  {
   "cell_type": "markdown",
   "metadata": {},
   "source": [
    "### 1.7. Mesures pour differentes valeurs $\\Omega$ et Q.\n",
    "### 1.8. Tracer les valeurs"
   ]
  },
  {
   "cell_type": "code",
   "execution_count": 9,
   "metadata": {},
   "outputs": [
    {
     "name": "stdout",
     "output_type": "stream",
     "text": [
      "Moment théorique = [0.003644333333333333, 0.008447377777777779, 0.012558933333333333, 0.016072444444444445] in N\n",
      "Moment expérimentale = [0.015299999999999998, 0.0408, 0.0663, 0.09689999999999999] in N\n"
     ]
    }
   ],
   "source": [
    "# Mesure moment force de coriolis pour un débit constant.\n",
    "charge = 8 # débit in l/min\n",
    "omegas = [19.5, 45.2, 67.2, 86] # vitesse de rotation rpm/min\n",
    "forces = [0.15, 0.4, 0.65, 0.95] # force in N\n",
    "\n",
    "# Calcule moment théorique et moment expérimentale.\n",
    "moment_theor = []\n",
    "moment_exp = []\n",
    "\n",
    "for i, omega in enumerate(omegas):\n",
    "    moment_theor.append(tp.compute_moment_coriolis(charge, omega))\n",
    "    moment_exp.append(forces[i] * tp.r_disk)\n",
    "    \n",
    "print('Moment théorique = {} in N'.format(moment_theor))\n",
    "print('Moment expérimentale = {} in N'.format(moment_exp))"
   ]
  },
  {
   "cell_type": "code",
   "execution_count": 17,
   "metadata": {},
   "outputs": [
    {
     "data": {
      "text/plain": [
       "<matplotlib.legend.Legend at 0x7f3367681978>"
      ]
     },
     "execution_count": 17,
     "metadata": {},
     "output_type": "execute_result"
    },
    {
     "data": {
      "image/png": "[encoded data removed]",
      "text/plain": [
       "<matplotlib.figure.Figure at 0x7f33676b86d8>"
      ]
     },
     "metadata": {},
     "output_type": "display_data"
    }
   ],
   "source": [
    "# Tracer les valeurs\n",
    "\n",
    "fig, ax = plt.subplots()\n",
    "ax.set_xlabel('$\\Omega (s^{-1})$')\n",
    "ax.set_ylabel('$M (Nm)$')\n",
    "ax.set_title('Moment Vs $\\Omega$ ; q = {} l/min'.format(charge))\n",
    "omegas_plot = []\n",
    "for omega in omegas:\n",
    "    omegas_plot.append(omega / 60.)\n",
    "\n",
    "ax.plot(omegas_plot, moment_exp, label='exp')\n",
    "ax.plot(omegas_plot, moment_theor, label='theor')\n",
    "\n",
    "\n",
    "ax.legend()\n"
   ]
  },
  {
   "cell_type": "code",
   "execution_count": 18,
   "metadata": {},
   "outputs": [
    {
     "name": "stdout",
     "output_type": "stream",
     "text": [
      "Moment théorique = [0.006447666666666667, 0.007522277777777778, 0.008059583333333334, 0.0096715] in N\n",
      "Moment expérimentale = [0.030599999999999995, 0.035699999999999996, 0.0408, 0.045899999999999996] in N\n"
     ]
    }
   ],
   "source": [
    "# Mesure moment de la force de Coriolis pour une vitesse de rotation constante\n",
    "\n",
    "omega = 46 # vitesse rotation rpm\n",
    "charges = [6, 7, 7.5, 9] # débit l/min\n",
    "forces  = [0.3, 0.35, 0.4, 0.45] # force in Nprint('The coefficient A is {}'.format(A))\n",
    "\n",
    "\n",
    "# Calcule moment théorique et moment expérimentale.\n",
    "moment_theor = []\n",
    "moment_exp = []\n",
    "\n",
    "for i, charge in enumerate(charges):\n",
    "    moment_theor.append(tp.compute_moment_coriolis(charge, omega))\n",
    "    moment_exp.append(forces[i] * tp.r_disk)\n",
    "    \n",
    "print('Moment théorique = {} in N'.format(moment_theor))\n",
    "print('Moment expérimentale = {} in N'.format(moment_exp))"
   ]
  },
  {
   "cell_type": "code",
   "execution_count": 20,
   "metadata": {},
   "outputs": [
    {
     "data": {
      "text/plain": [
       "<matplotlib.legend.Legend at 0x7f3367573908>"
      ]
     },
     "execution_count": 20,
     "metadata": {},
     "output_type": "execute_result"
    },
    {
     "data": {
      "image/png": "[encoded data removed]",
      "text/plain": [
       "<matplotlib.figure.Figure at 0x7f336763a518>"
      ]
     },
     "metadata": {},
     "output_type": "display_data"
    }
   ],
   "source": [
    "# Tracer les valeurs\n",
    "fig, ax = plt.subplots()\n",
    "ax.set_xlabel('$Q (m^3/s)$')\n",
    "ax.set_ylabel('$M (Nm)$')\n",
    "ax.set_title('Moment Vs Q ; $\\Omega$ = {} rpm '.format(omega))\n",
    "\n",
    "charges_plot = []\n",
    "for charge in charges:\n",
    "    charges_plot.append(tp.convert_charge_to(charge, to_units='m3/s', from_units='l/min'))\n",
    "\n",
    "ax.plot(charges_plot, moment_exp, label='exp')\n",
    "ax.plot(charges_plot, moment_theor, label='theor')\n",
    "\n",
    "ax.legend()\n"
   ]
  },
  {
   "cell_type": "markdown",
   "metadata": {},
   "source": [
    "## 2. EFFET DE LA FORCE D'ENTRAINEMENT (FORCE CENTRIFUGE)"
   ]
  },
  {
   "cell_type": "markdown",
   "metadata": {},
   "source": [
    "### 2.1. Expression force d'entrainement. Déduire que cette force dérive d'un potentiel.\n",
    "\n",
    "La force d'entrainement sur un un section de tube est\n",
    "$$dF = \\rho dr S r \\Omega^2$$\n",
    "\n",
    "Si on dérive le potentiel on trouve la force d'entrainement par unité de surface\n",
    "$$dE_e = \\rho \\Omega^2 r dr$$"
   ]
  },
  {
   "cell_type": "markdown",
   "metadata": {},
   "source": [
    "### 2.2. Géneraliser la relation de Bernoulli. \n",
    "\n",
    "$$h = \\frac{Q^2}{4S^2}\\frac{1}{g} - \\frac{l^2}{g}\\Omega^2$$\n",
    "\n",
    "$$A = \\frac{Q^2}{4S^2}\\frac{1}{g}$$\n",
    "\n",
    "$$B = \\frac{l^2}{g}$$"
   ]
  },
  {
   "cell_type": "markdown",
   "metadata": {},
   "source": [
    "### 2.3. Mésurer h pour différentes vitesses de rotation. Calculer valeurs A et B.\n"
   ]
  },
  {
   "cell_type": "code",
   "execution_count": 24,
   "metadata": {},
   "outputs": [
    {
     "name": "stdout",
     "output_type": "stream",
     "text": [
      "The coefficient A is 0.03545574859408254\n",
      "The coefficient B is 0.008581632653061224\n"
     ]
    }
   ],
   "source": [
    "# Mesure moment force de coriolis pour un débit constant.\n",
    "charge = 8 # débit in l/min\n",
    "omegas = [19.5, 45.2, 67.2, 86] # vitesse de rotation rpm\n",
    "hs = [0.405, 0.34, 0.24, 0.105] # hateur m\n",
    "\n",
    "charge = tp.convert_charge_to(charge, to_units='m3/s', from_units='l/min')\n",
    "\n",
    "# Compute A et B\n",
    "A = charge**2 / (4 * tp.gravity * tp.surf_tube**2)\n",
    "B = tp.l_tube**2 / tp.gravity\n",
    "\n",
    "print('The coefficient A is {}'.format(A))\n",
    "print('The coefficient B is {}'.format(B))"
   ]
  },
  {
   "cell_type": "markdown",
   "metadata": {},
   "source": [
    "### 2.4. Tracer les mesures"
   ]
  },
  {
   "cell_type": "code",
   "execution_count": 26,
   "metadata": {},
   "outputs": [
    {
     "data": {
      "text/plain": [
       "<matplotlib.legend.Legend at 0x7f3367426eb8>"
      ]
     },
     "execution_count": 26,
     "metadata": {},
     "output_type": "execute_result"
    },
    {
     "data": {
      "image/png": "[encoded data removed]",
      "text/plain": [
       "<matplotlib.figure.Figure at 0x7f336745bfd0>"
      ]
     },
     "metadata": {},
     "output_type": "display_data"
    }
   ],
   "source": [
    "# Tracer h Vs Omega\n",
    "fig, ax = plt.subplots()\n",
    "ax.set_xlabel('$\\Omega (s^{-1})$')\n",
    "ax.set_ylabel('$h (m)$')\n",
    "ax.set_title('h Vs $\\Omega$ ; q = {} l/min'.format(charge))\n",
    "\n",
    "# Passer unités omega à systeme internationale\n",
    "omegas_plot = []\n",
    "for omega in omegas:\n",
    "    omegas_plot.append(omega / 60.)\n",
    "\n",
    "# Calculer h_theor\n",
    "h_theor = []\n",
    "for omega in omegas_plot:\n",
    "    h_theor.append(A - (B * omega**2))\n",
    "                   \n",
    "ax.plot(omegas_plot, hs, label='exp')\n",
    "ax.plot(omegas_plot, h_theor, label='theor')\n",
    "ax.legend()"
   ]
  },
  {
   "cell_type": "code",
   "execution_count": null,
   "metadata": {},
   "outputs": [],
   "source": []
  }
 ],
 "metadata": {
  "kernelspec": {
   "display_name": "Python 3",
   "language": "python",
   "name": "python3"
  },
  "language_info": {
   "codemirror_mode": {
    "name": "ipython",
    "version": 3
   },
   "file_extension": ".py",
   "mimetype": "text/x-python",
   "name": "python",
   "nbconvert_exporter": "python",
   "pygments_lexer": "ipython3",
   "version": "3.6.3"
  }
 },
 "nbformat": 4,
 "nbformat_minor": 2
}

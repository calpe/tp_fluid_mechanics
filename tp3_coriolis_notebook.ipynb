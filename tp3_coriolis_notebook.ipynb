{
 "cells": [
  {
   "cell_type": "markdown",
   "metadata": {},
   "source": [
    "# TP3: FORCE DE CORIOLIS"
   ]
  },
  {
   "cell_type": "code",
   "execution_count": 2,
   "metadata": {},
   "outputs": [],
   "source": [
    "# Import modules\n"
   ]
  },
  {
   "cell_type": "markdown",
   "metadata": {},
   "source": [
    "## 1. EFFET DE LA FORCE DE CORIOLIS"
   ]
  },
  {
   "cell_type": "markdown",
   "metadata": {},
   "source": [
    "### 1.1. Vitesse constante dans le tube? Pourquoi?\n",
    "\n",
    "La vitesse est contante dans le tube, $\\partial_x U = 0$ \n",
    "\n",
    "Pour le principe de conservation de la masse: \n",
    "$$U_A S_A = U_B S_B$$\n",
    "\n",
    "Dans le tube $S_A = S_B$, donc $U_A = U_B$\n"
   ]
  },
  {
   "cell_type": "markdown",
   "metadata": {},
   "source": [
    "### 1.2. Force de Coriolis sur petit volume de fluide\n",
    "\n",
    "La force de Coriolis est $\\mathbf{f_c} = -m \\cdot \\mathbf{a_c} = m \\cdot 2 \\mathbf{\\Omega} \\times \\mathbf{v}$. Le vecteur de rotation est $\\mathbf{\\Omega} = [0,0, \\Omega]$. Le vecteur de vitesse du fluide $\\mathbf{v} = [v, 0, 0]$. \n",
    "\n",
    "La force de Coriolis sur un diferentiel de volume est donc: $$\\mathbf{dF_c} = -\\rho S dr 2 \\Omega U \\mathbf{j}$$,\n",
    "la direction de la force de Coriolis est perpendiculaire à la vitesse de rotation et à la vitesse du fluide. "
   ]
  },
  {
   "cell_type": "markdown",
   "metadata": {},
   "source": [
    "### 1.3. Moment force de Coriolis sur petite volume de fluide\n",
    "\n",
    "Le moment d'une force est $\\mathbf{M} = \\mathbf{r} \\times \\mathbf{F}$. Le vecteur de position respecte un point O est $\\mathbf{r} = [r, 0, 0]$.\n",
    "\n",
    "Le moment de la force de Coriolis est: $$\\mathbf{dM_c} = -\\rho S dr 2 \\Omega U r \\mathbf{k}$$"
   ]
  },
  {
   "cell_type": "markdown",
   "metadata": {},
   "source": [
    "### 1.4. Moment total de la force de Coriolis\n",
    "\n",
    "Le moment total de la force de Coriolis est obtenu en integrant l'expression anterior $$\\mathbf{M_c} = 2 \\int_0^l dM_c \\mathbf{k} = - \\rho 2 S \\Omega U l^2$$.\n",
    "\n",
    "Le débit sur un tube du fluide est $Q = U / 2S$, car le débit est reparti parmi les deux tubes.\n",
    "\n",
    "Le moment total est ecrit comme $$\\mathbf{M_c} = - \\rho  Q \\Omega l^2$$"
   ]
  },
  {
   "cell_type": "markdown",
   "metadata": {},
   "source": [
    "### 1.5. Effet de ce moment. Mesure\n",
    "\n",
    "Le moment produira la rotation du moteur par le principe d'action et reaction. \n",
    "\n",
    "On va mesurer la force sur le moteur avec le capteur de force. Comme on connait le rayon du disque sur lequel est enroulé la corde de nylon, on peut calculer le couple (moment). "
   ]
  },
  {
   "cell_type": "code",
   "execution_count": null,
   "metadata": {},
   "outputs": [],
   "source": []
  }
 ],
 "metadata": {
  "kernelspec": {
   "display_name": "Python 3",
   "language": "python",
   "name": "python3"
  },
  "language_info": {
   "codemirror_mode": {
    "name": "ipython",
    "version": 3
   },
   "file_extension": ".py",
   "mimetype": "text/x-python",
   "name": "python",
   "nbconvert_exporter": "python",
   "pygments_lexer": "ipython3",
   "version": "3.5.2"
  }
 },
 "nbformat": 4,
 "nbformat_minor": 2
}

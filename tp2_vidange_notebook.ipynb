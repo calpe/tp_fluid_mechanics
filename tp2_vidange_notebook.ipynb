{
 "cells": [
  {
   "cell_type": "markdown",
   "metadata": {},
   "source": [
    "# TP2: VIDANGE D'UN RESERVOIR"
   ]
  },
  {
   "cell_type": "code",
   "execution_count": 1,
   "metadata": {},
   "outputs": [],
   "source": [
    "# Import modules\n",
    "import numpy as np\n",
    "\n",
    "from scripts.tp2_vidange import TP2Vidange"
   ]
  },
  {
   "cell_type": "code",
   "execution_count": 2,
   "metadata": {},
   "outputs": [],
   "source": [
    "# Create TP oject\n",
    "tp = TP2Vidange(name='calpe', HAS_TO_SAVE=False)"
   ]
  },
  {
   "cell_type": "markdown",
   "metadata": {},
   "source": [
    "## 1. LES REGIMES DE FONCTIONNEMENT DU VASE DE MARIOTTE"
   ]
  },
  {
   "cell_type": "markdown",
   "metadata": {},
   "source": [
    "### 1.1. Robinet fermé. Expression de la vitesse (loi de Toricelli).\n",
    "On considère un point A (z > H) et point B (z=0).\n",
    "\n",
    "Les pressions à les deux points sont similaires $P_A = P_B = P_atm$.\n",
    "\n",
    "Pour le principe de conservation de la masse:\n",
    "$$U_A S = U_B Cs$$\n",
    "$$U_A = \\frac{Cs}{S}U_B$$\n",
    "\n",
    "Si on considere aue $s \\ll S$, la vitesse du point A est negligible (hypothèse).\n",
    "\n",
    "La loi de Bernoulli est donc:\n",
    "$$\\rho g H = \\frac{1}{2} \\rho U_b^2$$\n",
    "$$U_B = \\sqrt{2 g H}$$"
   ]
  },
  {
   "cell_type": "markdown",
   "metadata": {},
   "source": [
    "### 1.2. Expression pour z(t) à la surface libre.\n",
    "\n",
    "Le principe de conservation de la masse:\n",
    "$$U_A S = U_B C s $$\n",
    "$$U_A = \\frac{C s}{S} \\sqrt{2gH}$$\n",
    "\n",
    "La position de la surface libre est:\n",
    "$$z(t) = z_0 - \\frac{C s}{S} \\sqrt{2gH} t$$"
   ]
  },
  {
   "cell_type": "markdown",
   "metadata": {},
   "source": [
    "### 1.3. Robinet ouvert. Expression pour la position de la surface libre\n",
    "\n",
    "Si le robinet est ouvert, on a que la vitesse de la surface libre est $$U_A = \\frac{dz}{dt}= \\frac{C s}{S} \\sqrt{2g} z^{1/2} $$\n",
    "\n",
    "$$z^{1/2} dz = \\frac{C s}{S} \\sqrt{2g} dt$$\n",
    "\n",
    "Si on integre l'expression anterior, on arrive à \n",
    "$$\\sqrt{z(t)} = \\sqrt{z_0} + \\frac{Cs}{S}\\sqrt{\\frac{g}{2}}t$$"
   ]
  },
  {
   "cell_type": "markdown",
   "metadata": {},
   "source": [
    "## 2. ESSAIS A CHARGE CONSTANTE"
   ]
  },
  {
   "cell_type": "markdown",
   "metadata": {},
   "source": [
    "###  2.1. Robinet fermé = charge constante. Pour quoi? \n",
    "\n",
    "Parce que la pression dans la sortie est contante, autant que $z>H$, et donc la vitesse est constante."
   ]
  },
  {
   "cell_type": "markdown",
   "metadata": {},
   "source": [
    "### 2.2. Robinet fermé. Mésurer z(t) pour 4 valeurs différents h. Décrire le protocole expérimentale."
   ]
  },
  {
   "cell_type": "code",
   "execution_count": 3,
   "metadata": {},
   "outputs": [],
   "source": [
    "# Pour h=5cm\n",
    "h = 5 # hauteur cm\n",
    "t = [0, 5, 10, 15, 20, 25, 30, 35, 40, 45, 50] # temps secondes\n",
    "z = [25.5, 24.3, 23.2, 21.3, 20.3, 19.3, 18.3, 17.2, 16.3, 15.3, 14.3] # position cm"
   ]
  },
  {
   "cell_type": "markdown",
   "metadata": {},
   "source": [
    "### 2.3. Dérive dz/dt"
   ]
  },
  {
   "cell_type": "code",
   "execution_count": 4,
   "metadata": {},
   "outputs": [
    {
     "name": "stdout",
     "output_type": "stream",
     "text": [
      "dz/dt = [0.24, 0.22, 0.38, 0.2, 0.2, 0.2, 0.22, 0.18, 0.2, 0.2] cm/s\n"
     ]
    }
   ],
   "source": [
    "# Calculer la derivée en temps\n",
    "dz = []\n",
    "for i in range(len(z) - 1):\n",
    "    derivative = abs(z[i+1] - z[i]) / abs(t[i+1] - t[i])\n",
    "    dz.append(round(derivative,4))\n",
    "    \n",
    "print('dz/dt = {} cm/s'.format(dz))"
   ]
  },
  {
   "cell_type": "markdown",
   "metadata": {},
   "source": [
    "### 2.4. Vitesse du fluide. Calculer le coefficient C."
   ]
  },
  {
   "cell_type": "code",
   "execution_count": 5,
   "metadata": {},
   "outputs": [
    {
     "name": "stdout",
     "output_type": "stream",
     "text": [
      "v_a = 0.0022400000000000002 m/s\n"
     ]
    }
   ],
   "source": [
    "# Calculer la moyenne de la vitesse\n",
    "v_a = np.mean(dz) / 100\n",
    "print('v_a = {} m/s'.format(v_a))"
   ]
  },
  {
   "cell_type": "code",
   "execution_count": 9,
   "metadata": {},
   "outputs": [
    {
     "name": "stdout",
     "output_type": "stream",
     "text": [
      "Coefficient charge constante = 2.538491870978081\n",
      "Warning: The coefficient should be less than 1\n"
     ]
    }
   ],
   "source": [
    "# Calculer le coefficient C.\n",
    "v_b = np.sqrt(2 * tp.gravity * (h / 100.)) \n",
    "coeff = (v_a / v_b) * (tp.surf_big/tp.surf_small)\n",
    "\n",
    "print('Coefficient charge constante = {}'.format(coeff))\n",
    "\n",
    "if coeff >1:\n",
    "    print('Warning: The coefficient should be less than 1')"
   ]
  },
  {
   "cell_type": "code",
   "execution_count": null,
   "metadata": {},
   "outputs": [],
   "source": []
  }
 ],
 "metadata": {
  "kernelspec": {
   "display_name": "Python 3",
   "language": "python",
   "name": "python3"
  },
  "language_info": {
   "codemirror_mode": {
    "name": "ipython",
    "version": 3
   },
   "file_extension": ".py",
   "mimetype": "text/x-python",
   "name": "python",
   "nbconvert_exporter": "python",
   "pygments_lexer": "ipython3",
   "version": "3.6.3"
  }
 },
 "nbformat": 4,
 "nbformat_minor": 2
}

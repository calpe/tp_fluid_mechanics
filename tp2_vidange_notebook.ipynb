{
 "cells": [
  {
   "cell_type": "markdown",
   "metadata": {},
   "source": [
    "# TP2: VIDANGE D'UN RESERVOIR"
   ]
  },
  {
   "cell_type": "markdown",
   "metadata": {},
   "source": [
    "## 1. LES REGIMES DE FONCTIONNEMENT DU VASE DE MARIOTTE"
   ]
  },
  {
   "cell_type": "markdown",
   "metadata": {},
   "source": [
    "### 1.1. Robinet fermé. Expression de la vitesse (loi de Toricelli).\n",
    "On considère un point A (z > H) et point B (z=0).\n",
    "\n",
    "Les pressions à les deux points sont similaires $P_A = P_B = P_atm$.\n",
    "\n",
    "Pour le principe de conservation de la masse:\n",
    "$$U_A S = U_B Cs$$\n",
    "$$U_A = \\frac{Cs}{S}U_B$$\n",
    "\n",
    "Si on considere aue $s \\ll S$, la vitesse du point A est negligible (hypothèse).\n",
    "\n",
    "La loi de Bernoulli est donc:\n",
    "$$\\rho g H = \\frac{1}{2} \\rho U_b^2$$\n",
    "$$U_B = \\sqrt{2 g H}$$"
   ]
  },
  {
   "cell_type": "markdown",
   "metadata": {},
   "source": [
    "### 1.2. Expression pour z(t) à la surface libre.\n",
    "\n",
    "Le principe de conservation de la masse:\n",
    "$$U_A S = U_B C s $$\n",
    "$$U_A = \\frac{C s}{S} \\sqrt{2gH}$$\n",
    "\n",
    "La position de la surface libre est:\n",
    "$$z(t) = z_0 - \\frac{C s}{S} \\sqrt{2gH} t$$"
   ]
  },
  {
   "cell_type": "markdown",
   "metadata": {},
   "source": [
    "### 1.3. Robinet ouvert. Expression pour la position de la surface libre\n",
    "\n",
    "Si le robinet est ouvert, on a que la vitesse de la surface libre est $$U_A = \\frac{dz}{dt}= \\frac{C s}{S} \\sqrt{2g} z^{1/2} $$\n",
    "\n",
    "$$z^{1/2} dz = \\frac{C s}{S} \\sqrt{2g} dt$$\n",
    "\n",
    "Si on integre l'expression anterior, on arrive à \n",
    "$$\\sqrt{z(t)} = \\sqrt{z_0} + \\frac{Cs}{S}\\sqrt{\\frac{g}{2}}t$$"
   ]
  },
  {
   "cell_type": "markdown",
   "metadata": {},
   "source": [
    "## 2. ESSAIS A CHARGE CONSTANTE"
   ]
  },
  {
   "cell_type": "markdown",
   "metadata": {},
   "source": [
    "###  2.1. Robinet fermé = charge constante. Pour quoi? \n",
    "\n",
    "Parce que la pression dans la sortie est contante, autant que $z>H$, et donc la vitesse est constante."
   ]
  },
  {
   "cell_type": "code",
   "execution_count": null,
   "metadata": {},
   "outputs": [],
   "source": []
  }
 ],
 "metadata": {
  "kernelspec": {
   "display_name": "Python 3",
   "language": "python",
   "name": "python3"
  },
  "language_info": {
   "codemirror_mode": {
    "name": "ipython",
    "version": 3
   },
   "file_extension": ".py",
   "mimetype": "text/x-python",
   "name": "python",
   "nbconvert_exporter": "python",
   "pygments_lexer": "ipython3",
   "version": "3.6.3"
  }
 },
 "nbformat": 4,
 "nbformat_minor": 2
}

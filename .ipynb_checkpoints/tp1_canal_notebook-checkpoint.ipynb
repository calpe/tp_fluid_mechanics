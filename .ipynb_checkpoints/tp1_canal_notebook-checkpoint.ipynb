{
 "cells": [
  {
   "cell_type": "markdown",
   "metadata": {},
   "source": [
    "# TP1: ECOULEMENT EN CANAL"
   ]
  },
  {
   "cell_type": "code",
   "execution_count": 4,
   "metadata": {},
   "outputs": [],
   "source": [
    "# Import modules\n",
    "\n",
    "import matplotlib.pyplot as plt\n",
    "\n",
    "from tp1_canal import TP1Canal"
   ]
  },
  {
   "cell_type": "code",
   "execution_count": 5,
   "metadata": {},
   "outputs": [],
   "source": [
    "# Create TP oject\n",
    "\n",
    "tp = TP1Canal(name='calpe', HAS_TO_SAVE=False)"
   ]
  },
  {
   "cell_type": "markdown",
   "metadata": {},
   "source": [
    "## 1. MESURE DE DEBIT"
   ]
  },
  {
   "cell_type": "markdown",
   "metadata": {},
   "source": [
    "### 1.1. Principe de mesure du débit. Calcul de la incertitude\n",
    "\n",
    "$$Q = \\frac{Volume}{Temps}$$\n",
    "\n",
    "$$\\frac{\\delta Q}{Q} = \\frac{\\delta V}{V} + \\frac{\\delta T}{T}$$\n"
   ]
  },
  {
   "cell_type": "markdown",
   "metadata": {},
   "source": [
    "### 1.2. Débit varie-t-il le long du canal? \n",
    "\n",
    "$$\\frac{\\partial Q}{\\partial x} = 0$$\n",
    "\n",
    "Le théorème de conservation de la masse --> le débit ne varie pas le long du canal."
   ]
  },
  {
   "cell_type": "markdown",
   "metadata": {},
   "source": [
    "### 1.3. Relation Q(h, d, U)\n",
    "\n",
    "$$Q = U \\cdot S = U \\cdot h \\cdot d$$\n",
    "\n",
    "$$U = \\frac{Q}{h \\cdot d}$$"
   ]
  },
  {
   "cell_type": "markdown",
   "metadata": {},
   "source": [
    "## 2. PERTES DE CHARGE REGULIERES"
   ]
  },
  {
   "cell_type": "markdown",
   "metadata": {},
   "source": [
    "### 2.1. h(x) (5 points)"
   ]
  },
  {
   "cell_type": "code",
   "execution_count": 1,
   "metadata": {},
   "outputs": [],
   "source": [
    "hs = [0.025, 0.023, 0.02, 0.018, 0.015]\n",
    "\n",
    "# L'énergie diminue"
   ]
  },
  {
   "cell_type": "markdown",
   "metadata": {},
   "source": [
    "## 2.2. Exprimer E(Q, h,d, g). Calculer et tracer E(x). Calculer l'erreur de mesure E. \n",
    "\n",
    "$$E = \\frac{1}{2} \\rho \\frac{Q^2}{h \\cdot d} + \\rho g h$$"
   ]
  },
  {
   "cell_type": "code",
   "execution_count": null,
   "metadata": {},
   "outputs": [],
   "source": []
  }
 ],
 "metadata": {
  "kernelspec": {
   "display_name": "Python 3",
   "language": "python",
   "name": "python3"
  },
  "language_info": {
   "codemirror_mode": {
    "name": "ipython",
    "version": 3
   },
   "file_extension": ".py",
   "mimetype": "text/x-python",
   "name": "python",
   "nbconvert_exporter": "python",
   "pygments_lexer": "ipython3",
   "version": "3.5.2"
  }
 },
 "nbformat": 4,
 "nbformat_minor": 2
}

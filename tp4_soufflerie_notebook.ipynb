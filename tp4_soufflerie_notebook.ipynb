{
 "cells": [
  {
   "cell_type": "markdown",
   "metadata": {},
   "source": [
    "# TP4: SOUFFLERIE"
   ]
  },
  {
   "cell_type": "code",
   "execution_count": 1,
   "metadata": {},
   "outputs": [],
   "source": [
    "# Import modules\n",
    "import numpy as np\n",
    "import matplotlib.pyplot as plt\n",
    "\n",
    "from scripts.tp4_soufflerie import TP4Soufflerie"
   ]
  },
  {
   "cell_type": "code",
   "execution_count": 2,
   "metadata": {},
   "outputs": [],
   "source": [
    "# Create TP oject\n",
    "tp = TP4Soufflerie(name='calpe', HAS_TO_SAVE=False)"
   ]
  },
  {
   "cell_type": "markdown",
   "metadata": {},
   "source": [
    "## 1. TRAINEE SUR UN DISQUE ET UNE SPHERE"
   ]
  },
  {
   "cell_type": "markdown",
   "metadata": {},
   "source": [
    "### 1.1. Justifier portance disque et sphere est nulle\n",
    "\n",
    "Un disque ou une sphere placé perpendicurairement à l'écoulement a une surface frontale dans la direction vertical nulle. \n",
    "Donc la force de portance est 0."
   ]
  },
  {
   "cell_type": "markdown",
   "metadata": {},
   "source": [
    "### 1.2. Mesurer force trainée sur le disque pour 4 vitesses. Estimer incertitude de mesure de vitesse et de trainée."
   ]
  },
  {
   "cell_type": "code",
   "execution_count": 3,
   "metadata": {},
   "outputs": [
    {
     "name": "stdout",
     "output_type": "stream",
     "text": [
      "Incertitude vitesse = 0.021582733812949638\n",
      "Incertitude forces = 0.06521739130434782\n"
     ]
    }
   ],
   "source": [
    "# Mesures de vitesse et de force\n",
    "vs = [2.6, 4.7, 6.6] # vitesse m/s\n",
    "forces = [0.07, 0.13, 0.26] # force N\n",
    "\n",
    "# Incertitude de mesure\n",
    "dv = 0.1 # incertitude vitesse m/s\n",
    "df = 0.01 # incertitude force N\n",
    "\n",
    "# Incertitude porcentage\n",
    "incert_v = dv / np.mean(vs)\n",
    "incert_f = df / np.mean(forces)\n",
    "\n",
    "print ('Incertitude vitesse = {}'.format(incert_v))\n",
    "print ('Incertitude forces = {}'.format(incert_f))"
   ]
  },
  {
   "cell_type": "markdown",
   "metadata": {},
   "source": [
    "### 1.3. Nombre Reynolds pour les vitesses. Régime turbulent?"
   ]
  },
  {
   "cell_type": "code",
   "execution_count": 4,
   "metadata": {},
   "outputs": [
    {
     "name": "stdout",
     "output_type": "stream",
     "text": [
      "Vitesse = 2.6 m/s, Reynolds = 208000.00000000003, turbulent\n",
      "Vitesse = 4.7 m/s, Reynolds = 376000.0, turbulent\n",
      "Vitesse = 6.6 m/s, Reynolds = 528000.0, turbulent\n"
     ]
    }
   ],
   "source": [
    "# Nombre de Reynolds\n",
    "reynolds = []\n",
    "for v in vs:\n",
    "    reynolds.append(tp.compute_reynolds(v, tp.diam_disk))\n",
    "\n",
    "# Vérifier si le régime est turbulent\n",
    "for i, reynold in enumerate(reynolds):\n",
    "    if reynold > 4e3:\n",
    "        print('Vitesse = {} m/s, Reynolds = {}, turbulent'.format(vs[i], reynold))\n",
    "    else:\n",
    "        print('Vitesse = {} m/s, Reynolds = {}, no turbulent'.format(vs[i], reynold))"
   ]
  },
  {
   "cell_type": "markdown",
   "metadata": {},
   "source": [
    "### 1.4. Calculer coefficient trainée. Estimer erreur mesure coefficient."
   ]
  },
  {
   "cell_type": "code",
   "execution_count": 5,
   "metadata": {},
   "outputs": [
    {
     "name": "stdout",
     "output_type": "stream",
     "text": [
      "coef_tr = 0.0029493790340137664\n"
     ]
    }
   ],
   "source": [
    "# Calculer le coeffiecient trainée\n",
    "coef_tr = []\n",
    "for i, v in enumerate(vs):\n",
    "    coef_tr.append(tp.compute_drag_coef(forces[i], v, tp.surf_disk, profile='disk'))\n",
    "    \n",
    "print('coef_tr = {}'.format(np.mean(coef_tr)))"
   ]
  },
  {
   "cell_type": "code",
   "execution_count": 6,
   "metadata": {},
   "outputs": [
    {
     "name": "stdout",
     "output_type": "stream",
     "text": [
      "Incertitude coefficient = 0.1083828589302471\n"
     ]
    }
   ],
   "source": [
    "# Calculer incertitude mesure\n",
    "incert_coef = incert_f + 2 * incert_v\n",
    "\n",
    "print('Incertitude coefficient = {}'.format(incert_coef))"
   ]
  },
  {
   "cell_type": "markdown",
   "metadata": {},
   "source": [
    "### 1.5. Même mésures pour l'sphère:"
   ]
  },
  {
   "cell_type": "code",
   "execution_count": 10,
   "metadata": {},
   "outputs": [
    {
     "name": "stdout",
     "output_type": "stream",
     "text": [
      "Incertitude vitesse = 0.013698630136986302\n",
      "Incertitude forces = 0.024999999999999998\n"
     ]
    }
   ],
   "source": [
    "# Mesures de vitesse et de force\n",
    "vs = [7.3] # vitesse m/s\n",
    "forces = [0.4] # force N\n",
    "\n",
    "# Incertitude de mesure\n",
    "dv = 0.1 # incertitude vitesse m/s\n",
    "df = 0.01 # incertitude force N\n",
    "\n",
    "# Incertitude porcentage\n",
    "incert_v = dv / np.mean(vs)\n",
    "incert_f = df / np.mean(forces)\n",
    "\n",
    "print ('Incertitude vitesse = {}'.format(incert_v))\n",
    "print ('Incertitude forces = {}'.format(incert_f))"
   ]
  },
  {
   "cell_type": "code",
   "execution_count": 11,
   "metadata": {},
   "outputs": [
    {
     "name": "stdout",
     "output_type": "stream",
     "text": [
      "Vitesse = 7.3 m/s, Reynolds = 438000.0, turbulent\n"
     ]
    }
   ],
   "source": [
    "# Nombre de Reynolds\n",
    "reynolds = []\n",
    "for v in vs:\n",
    "    reynolds.append(tp.compute_reynolds(v, tp.diam_sphere))\n",
    "\n",
    "# Vérifier si le régime est turbulent\n",
    "for i, reynold in enumerate(reynolds):\n",
    "    if reynold > 4e3:\n",
    "        print('Vitesse = {} m/s, Reynolds = {}, turbulent'.format(vs[i], reynold))\n",
    "    else:\n",
    "        print('Vitesse = {} m/s, Reynolds = {}, no turbulent'.format(vs[i], reynold))"
   ]
  },
  {
   "cell_type": "code",
   "execution_count": 12,
   "metadata": {},
   "outputs": [
    {
     "name": "stdout",
     "output_type": "stream",
     "text": [
      "coef_tr = 0.0053046633958996284\n"
     ]
    }
   ],
   "source": [
    "# Calculer le coeffiecient trainée\n",
    "coef_tr = []\n",
    "for i, v in enumerate(vs):\n",
    "    coef_tr.append(tp.compute_drag_coef(forces[i], v, tp.surf_sphere, profile='sphere'))\n",
    "    \n",
    "print('coef_tr = {}'.format(np.mean(coef_tr)))"
   ]
  }
 ],
 "metadata": {
  "kernelspec": {
   "display_name": "Python 3",
   "language": "python",
   "name": "python3"
  },
  "language_info": {
   "codemirror_mode": {
    "name": "ipython",
    "version": 3
   },
   "file_extension": ".py",
   "mimetype": "text/x-python",
   "name": "python",
   "nbconvert_exporter": "python",
   "pygments_lexer": "ipython3",
   "version": "3.6.3"
  }
 },
 "nbformat": 4,
 "nbformat_minor": 2
}

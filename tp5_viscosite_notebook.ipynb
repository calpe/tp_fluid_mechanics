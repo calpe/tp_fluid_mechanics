{
 "cells": [
  {
   "cell_type": "markdown",
   "metadata": {},
   "source": [
    "# TP5: VISCOSITÉ"
   ]
  },
  {
   "cell_type": "code",
   "execution_count": 3,
   "metadata": {},
   "outputs": [],
   "source": [
    "# Import modules\n",
    "from math import pi\n",
    "import numpy as np\n",
    "import matplotlib.pyplot as plt\n",
    "\n",
    "from scripts.tp5_viscosite import TP5Viscosite"
   ]
  },
  {
   "cell_type": "code",
   "execution_count": 4,
   "metadata": {},
   "outputs": [],
   "source": [
    "# Create TP oject\n",
    "tp = TP5Viscosite()"
   ]
  },
  {
   "cell_type": "markdown",
   "metadata": {},
   "source": [
    "## 1. VISCOSIMETRE À CAPILLAIRE"
   ]
  },
  {
   "cell_type": "markdown",
   "metadata": {},
   "source": [
    "### 1.1. Donner ordre grandeur $\\Delta P$. Déduire le temps.\n",
    "\n",
    "$$\\Delta P \\sim \\rho g L$$\n",
    "\n",
    "À partir de la loi de Poiseuille\n",
    "$$Q = \\frac{\\pi R^4}{8 \\rho g} \\frac{\\Delta P}{L} = \\frac{V}{t}$$\n",
    "$$t = \\frac{8V}{\\pi R^4 g} \\nu = \\frac{1}{k}\\nu$$"
   ]
  },
  {
   "cell_type": "markdown",
   "metadata": {},
   "source": [
    "### 1.2. Calculer k"
   ]
  },
  {
   "cell_type": "code",
   "execution_count": 6,
   "metadata": {},
   "outputs": [
    {
     "name": "stdout",
     "output_type": "stream",
     "text": [
      "k = 2.347401653411322e-09\n"
     ]
    }
   ],
   "source": [
    "# Calculer constante k\n",
    "g = tp.gravity\n",
    "R = tp.rayon_capillaire\n",
    "V = tp.volume\n",
    "\n",
    "k = (pi * g * R**4) / (8 * V)\n",
    "\n",
    "print('k = {}'.format(k))"
   ]
  },
  {
   "cell_type": "markdown",
   "metadata": {},
   "source": [
    "### 1.3. Mesure viscosité"
   ]
  },
  {
   "cell_type": "markdown",
   "metadata": {},
   "source": [
    "### 1.4. Mesure nombre Reynolds"
   ]
  },
  {
   "cell_type": "markdown",
   "metadata": {},
   "source": [
    "## 2. VISCOSIMETRE ROTATIF"
   ]
  },
  {
   "cell_type": "code",
   "execution_count": null,
   "metadata": {},
   "outputs": [],
   "source": []
  }
 ],
 "metadata": {
  "kernelspec": {
   "display_name": "Python 3",
   "language": "python",
   "name": "python3"
  },
  "language_info": {
   "codemirror_mode": {
    "name": "ipython",
    "version": 3
   },
   "file_extension": ".py",
   "mimetype": "text/x-python",
   "name": "python",
   "nbconvert_exporter": "python",
   "pygments_lexer": "ipython3",
   "version": "3.6.3"
  }
 },
 "nbformat": 4,
 "nbformat_minor": 2
}
